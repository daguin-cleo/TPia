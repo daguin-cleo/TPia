{
  "nbformat": 4,
  "nbformat_minor": 0,
  "metadata": {
    "kernelspec": {
      "display_name": "Python 3",
      "language": "python",
      "name": "python3"
    },
    "language_info": {
      "codemirror_mode": {
        "name": "ipython",
        "version": 3
      },
      "file_extension": ".py",
      "mimetype": "text/x-python",
      "name": "python",
      "nbconvert_exporter": "python",
      "pygments_lexer": "ipython3",
      "version": "3.7.4"
    },
    "colab": {
      "name": "Artificial Intelligence TP5-6 part1.ipynb",
      "provenance": []
    }
  },
  "cells": [
    {
      "cell_type": "markdown",
      "metadata": {
        "id": "2qH7eDVaX5xP",
        "colab_type": "text"
      },
      "source": [
        "### TP5-6 Julie Chapdelaine et Cleo Daguin\n"
      ]
    },
    {
      "cell_type": "markdown",
      "metadata": {
        "id": "lcbm8AefX5xV",
        "colab_type": "text"
      },
      "source": [
        "Ce TP va nous permettre de comprendre les réseaux neuronaux convolutifs et de faire du traitement d'image et de la classification"
      ]
    },
    {
      "cell_type": "markdown",
      "metadata": {
        "id": "WrV3edC8ZITx",
        "colab_type": "text"
      },
      "source": [
        "#### **I) Understanding convolutional networks for computer vision**\n",
        "Nous allons dans un premier temps étudier un réseau convolution appliqué à la base de donnée mnist (vue dans le TP 1-2). Source : https://github.com/keras-team/keras/blob/master/examples/mnist_cnn.py"
      ]
    },
    {
      "cell_type": "code",
      "metadata": {
        "id": "aK11NUxIX5xZ",
        "colab_type": "code",
        "outputId": "80c43eb5-af97-43fc-bffc-969d864b0784",
        "colab": {
          "base_uri": "https://localhost:8080/",
          "height": 34
        }
      },
      "source": [
        "from __future__ import print_function\n",
        "import keras\n",
        "from keras.datasets import mnist\n",
        "from keras.models import Sequential\n",
        "from keras.layers import Dense, Dropout, Flatten\n",
        "from keras.layers import Conv2D, MaxPooling2D\n",
        "from keras import backend as K"
      ],
      "execution_count": 0,
      "outputs": [
        {
          "output_type": "stream",
          "text": [
            "Using TensorFlow backend.\n"
          ],
          "name": "stderr"
        }
      ]
    },
    {
      "cell_type": "code",
      "metadata": {
        "id": "8cd-QwxUX5xp",
        "colab_type": "code",
        "outputId": "967eb642-75ff-465a-d44f-9de3cab7bc5a",
        "colab": {
          "base_uri": "https://localhost:8080/",
          "height": 51
        }
      },
      "source": [
        "batch_size = 128\n",
        "num_classes = 10\n",
        "epochs = 12\n",
        "\n",
        "# input image dimensions\n",
        "img_rows, img_cols = 28, 28\n",
        "\n",
        "# the data, split between train and test sets\n",
        "(x_train, y_train), (x_test, y_test) = mnist.load_data()"
      ],
      "execution_count": 0,
      "outputs": [
        {
          "output_type": "stream",
          "text": [
            "Downloading data from https://s3.amazonaws.com/img-datasets/mnist.npz\n",
            "11493376/11490434 [==============================] - 2s 0us/step\n"
          ],
          "name": "stdout"
        }
      ]
    },
    {
      "cell_type": "markdown",
      "metadata": {
        "id": "lDitmzTjaleS",
        "colab_type": "text"
      },
      "source": [
        "Normalisation de la taille des images (img-rows*img-cols)"
      ]
    },
    {
      "cell_type": "code",
      "metadata": {
        "id": "bEI3MfNOX5xy",
        "colab_type": "code",
        "colab": {}
      },
      "source": [
        "if K.image_data_format() == 'channels_first':\n",
        "    x_train = x_train.reshape(x_train.shape[0], 1, img_rows, img_cols)\n",
        "    x_test = x_test.reshape(x_test.shape[0], 1, img_rows, img_cols)\n",
        "    input_shape = (1, img_rows, img_cols)\n",
        "else:\n",
        "    x_train = x_train.reshape(x_train.shape[0], img_rows, img_cols, 1)\n",
        "    x_test = x_test.reshape(x_test.shape[0], img_rows, img_cols, 1)\n",
        "input_shape = (img_rows, img_cols, 1)"
      ],
      "execution_count": 0,
      "outputs": []
    },
    {
      "cell_type": "markdown",
      "metadata": {
        "id": "PHagFrONjeSr",
        "colab_type": "text"
      },
      "source": [
        "Transformation des images en matrice de float32 représentant chaque pixel"
      ]
    },
    {
      "cell_type": "code",
      "metadata": {
        "id": "NAO0mmufX5x6",
        "colab_type": "code",
        "outputId": "1ec44e91-892b-4191-9587-6cd92406f4e9",
        "colab": {
          "base_uri": "https://localhost:8080/",
          "height": 68
        }
      },
      "source": [
        "x_train = x_train.astype('float32')\n",
        "x_test = x_test.astype('float32')\n",
        "x_train /= 255\n",
        "x_test /= 255\n",
        "print('x_train shape:', x_train.shape)\n",
        "print(x_train.shape[0], 'train samples')\n",
        "print(x_test.shape[0], 'test samples')\n"
      ],
      "execution_count": 0,
      "outputs": [
        {
          "output_type": "stream",
          "text": [
            "x_train shape: (60000, 28, 28, 1)\n",
            "60000 train samples\n",
            "10000 test samples\n"
          ],
          "name": "stdout"
        }
      ]
    },
    {
      "cell_type": "markdown",
      "metadata": {
        "id": "GLx3okCYlGkd",
        "colab_type": "text"
      },
      "source": [
        "Transformation des sorties attendues pour etre un vecteur de 10 elements binaires dont un seul est à 1 (comme dans les tps précédents pour une sortie en catégories)"
      ]
    },
    {
      "cell_type": "code",
      "metadata": {
        "id": "8rwfFlnKkgP_",
        "colab_type": "code",
        "colab": {}
      },
      "source": [
        "# convert class vectors to binary class matrices\n",
        "y_train = keras.utils.to_categorical(y_train, num_classes)\n",
        "y_test = keras.utils.to_categorical(y_test, num_classes)"
      ],
      "execution_count": 0,
      "outputs": []
    },
    {
      "cell_type": "markdown",
      "metadata": {
        "id": "jqwJORv8l7Sv",
        "colab_type": "text"
      },
      "source": [
        "**Création du model**\n",
        "\n",
        "\n",
        "*   Une ou plusieurs couches de convolutions qui forment un prétraitement\n",
        "*   Un pooling qui rassemble les résultats du prétraitement\n",
        "*   Un dropout pour éviter l'overfitting\n",
        "*   Un flatten pour revenir à 1 dimension\n",
        "*   Un dense pour le dur du traitement\n",
        "*   Un second dropout\n",
        "*   Un second dense avec une sortie de taille 10 pour les 10 catégories possibles\n",
        "\n"
      ]
    },
    {
      "cell_type": "code",
      "metadata": {
        "scrolled": false,
        "id": "n5age0GIX5yB",
        "colab_type": "code",
        "outputId": "47ddbe66-a4c7-47cf-b955-a18ef8e313be",
        "colab": {
          "base_uri": "https://localhost:8080/",
          "height": 1000
        }
      },
      "source": [
        "\n",
        "model = Sequential()\n",
        "model.add(Conv2D(32, kernel_size=(3, 3),\n",
        "                 activation='relu',\n",
        "                 input_shape=input_shape))\n",
        "model.add(Conv2D(64, (3, 3), activation='relu'))\n",
        "model.add(MaxPooling2D(pool_size=(2, 2)))\n",
        "model.add(Dropout(0.25))\n",
        "model.add(Flatten())\n",
        "model.add(Dense(128, activation='relu'))\n",
        "model.add(Dropout(0.5))\n",
        "model.add(Dense(num_classes, activation='softmax'))\n",
        "\n",
        "model.compile(loss=keras.losses.categorical_crossentropy,\n",
        "              optimizer=keras.optimizers.Adadelta(),\n",
        "              metrics=['accuracy'])\n",
        "\n",
        "model.fit(x_train, y_train,\n",
        "          batch_size=batch_size,\n",
        "          epochs=epochs,\n",
        "          verbose=1,\n",
        "          validation_data=(x_test, y_test))\n",
        "score = model.evaluate(x_test, y_test, verbose=0)\n",
        "print('Test loss:', score[0])\n",
        "print('Test accuracy:', score[1])"
      ],
      "execution_count": 0,
      "outputs": [
        {
          "output_type": "stream",
          "text": [
            "WARNING:tensorflow:From /usr/local/lib/python3.6/dist-packages/keras/backend/tensorflow_backend.py:66: The name tf.get_default_graph is deprecated. Please use tf.compat.v1.get_default_graph instead.\n",
            "\n",
            "WARNING:tensorflow:From /usr/local/lib/python3.6/dist-packages/keras/backend/tensorflow_backend.py:541: The name tf.placeholder is deprecated. Please use tf.compat.v1.placeholder instead.\n",
            "\n",
            "WARNING:tensorflow:From /usr/local/lib/python3.6/dist-packages/keras/backend/tensorflow_backend.py:4432: The name tf.random_uniform is deprecated. Please use tf.random.uniform instead.\n",
            "\n",
            "WARNING:tensorflow:From /usr/local/lib/python3.6/dist-packages/keras/backend/tensorflow_backend.py:4267: The name tf.nn.max_pool is deprecated. Please use tf.nn.max_pool2d instead.\n",
            "\n",
            "WARNING:tensorflow:From /usr/local/lib/python3.6/dist-packages/keras/backend/tensorflow_backend.py:148: The name tf.placeholder_with_default is deprecated. Please use tf.compat.v1.placeholder_with_default instead.\n",
            "\n",
            "WARNING:tensorflow:From /usr/local/lib/python3.6/dist-packages/keras/backend/tensorflow_backend.py:3733: calling dropout (from tensorflow.python.ops.nn_ops) with keep_prob is deprecated and will be removed in a future version.\n",
            "Instructions for updating:\n",
            "Please use `rate` instead of `keep_prob`. Rate should be set to `rate = 1 - keep_prob`.\n",
            "WARNING:tensorflow:From /usr/local/lib/python3.6/dist-packages/keras/optimizers.py:793: The name tf.train.Optimizer is deprecated. Please use tf.compat.v1.train.Optimizer instead.\n",
            "\n",
            "WARNING:tensorflow:From /usr/local/lib/python3.6/dist-packages/keras/backend/tensorflow_backend.py:3576: The name tf.log is deprecated. Please use tf.math.log instead.\n",
            "\n",
            "WARNING:tensorflow:From /usr/local/lib/python3.6/dist-packages/tensorflow_core/python/ops/math_grad.py:1424: where (from tensorflow.python.ops.array_ops) is deprecated and will be removed in a future version.\n",
            "Instructions for updating:\n",
            "Use tf.where in 2.0, which has the same broadcast rule as np.where\n",
            "WARNING:tensorflow:From /usr/local/lib/python3.6/dist-packages/keras/backend/tensorflow_backend.py:1033: The name tf.assign_add is deprecated. Please use tf.compat.v1.assign_add instead.\n",
            "\n",
            "WARNING:tensorflow:From /usr/local/lib/python3.6/dist-packages/keras/backend/tensorflow_backend.py:1020: The name tf.assign is deprecated. Please use tf.compat.v1.assign instead.\n",
            "\n",
            "WARNING:tensorflow:From /usr/local/lib/python3.6/dist-packages/keras/backend/tensorflow_backend.py:3005: The name tf.Session is deprecated. Please use tf.compat.v1.Session instead.\n",
            "\n",
            "Train on 60000 samples, validate on 10000 samples\n",
            "Epoch 1/12\n",
            "WARNING:tensorflow:From /usr/local/lib/python3.6/dist-packages/keras/backend/tensorflow_backend.py:190: The name tf.get_default_session is deprecated. Please use tf.compat.v1.get_default_session instead.\n",
            "\n",
            "WARNING:tensorflow:From /usr/local/lib/python3.6/dist-packages/keras/backend/tensorflow_backend.py:197: The name tf.ConfigProto is deprecated. Please use tf.compat.v1.ConfigProto instead.\n",
            "\n",
            "WARNING:tensorflow:From /usr/local/lib/python3.6/dist-packages/keras/backend/tensorflow_backend.py:207: The name tf.global_variables is deprecated. Please use tf.compat.v1.global_variables instead.\n",
            "\n",
            "WARNING:tensorflow:From /usr/local/lib/python3.6/dist-packages/keras/backend/tensorflow_backend.py:216: The name tf.is_variable_initialized is deprecated. Please use tf.compat.v1.is_variable_initialized instead.\n",
            "\n",
            "WARNING:tensorflow:From /usr/local/lib/python3.6/dist-packages/keras/backend/tensorflow_backend.py:223: The name tf.variables_initializer is deprecated. Please use tf.compat.v1.variables_initializer instead.\n",
            "\n",
            "60000/60000 [==============================] - 152s 3ms/step - loss: 0.2625 - acc: 0.9202 - val_loss: 0.0547 - val_acc: 0.9829\n",
            "Epoch 2/12\n",
            "60000/60000 [==============================] - 151s 3ms/step - loss: 0.0887 - acc: 0.9739 - val_loss: 0.0384 - val_acc: 0.9877\n",
            "Epoch 3/12\n",
            "60000/60000 [==============================] - 151s 3ms/step - loss: 0.0637 - acc: 0.9812 - val_loss: 0.0352 - val_acc: 0.9871\n",
            "Epoch 4/12\n",
            "60000/60000 [==============================] - 151s 3ms/step - loss: 0.0549 - acc: 0.9835 - val_loss: 0.0345 - val_acc: 0.9893\n",
            "Epoch 5/12\n",
            "60000/60000 [==============================] - 152s 3ms/step - loss: 0.0463 - acc: 0.9854 - val_loss: 0.0299 - val_acc: 0.9897\n",
            "Epoch 6/12\n",
            "60000/60000 [==============================] - 151s 3ms/step - loss: 0.0413 - acc: 0.9877 - val_loss: 0.0281 - val_acc: 0.9913\n",
            "Epoch 7/12\n",
            "60000/60000 [==============================] - 151s 3ms/step - loss: 0.0377 - acc: 0.9885 - val_loss: 0.0296 - val_acc: 0.9896\n",
            "Epoch 8/12\n",
            "60000/60000 [==============================] - 151s 3ms/step - loss: 0.0336 - acc: 0.9893 - val_loss: 0.0295 - val_acc: 0.9913\n",
            "Epoch 9/12\n",
            "60000/60000 [==============================] - 150s 3ms/step - loss: 0.0300 - acc: 0.9911 - val_loss: 0.0270 - val_acc: 0.9913\n",
            "Epoch 10/12\n",
            "60000/60000 [==============================] - 150s 2ms/step - loss: 0.0268 - acc: 0.9918 - val_loss: 0.0274 - val_acc: 0.9920\n",
            "Epoch 11/12\n",
            "60000/60000 [==============================] - 150s 3ms/step - loss: 0.0273 - acc: 0.9914 - val_loss: 0.0265 - val_acc: 0.9911\n",
            "Epoch 12/12\n",
            "60000/60000 [==============================] - 150s 3ms/step - loss: 0.0240 - acc: 0.9925 - val_loss: 0.0312 - val_acc: 0.9919\n",
            "Test loss: 0.03122852318543537\n",
            "Test accuracy: 0.9919\n"
          ],
          "name": "stdout"
        }
      ]
    },
    {
      "cell_type": "markdown",
      "metadata": {
        "id": "4Sl7p1Urp1iI",
        "colab_type": "text"
      },
      "source": [
        "On peut observer qu'avec seulement 12 epochs, l'accuracy est déjà à 99,19 % et que la loss et la val-loss sont très basses ce qui est recherché."
      ]
    },
    {
      "cell_type": "code",
      "metadata": {
        "id": "rLYYG26QX5yJ",
        "colab_type": "code",
        "outputId": "0bfea8ed-7270-4b87-ca3f-e534e53e4a34",
        "colab": {
          "base_uri": "https://localhost:8080/",
          "height": 434
        }
      },
      "source": [
        "model.summary()"
      ],
      "execution_count": 0,
      "outputs": [
        {
          "output_type": "stream",
          "text": [
            "Model: \"sequential_1\"\n",
            "_________________________________________________________________\n",
            "Layer (type)                 Output Shape              Param #   \n",
            "=================================================================\n",
            "conv2d_1 (Conv2D)            (None, 26, 26, 32)        320       \n",
            "_________________________________________________________________\n",
            "conv2d_2 (Conv2D)            (None, 24, 24, 64)        18496     \n",
            "_________________________________________________________________\n",
            "max_pooling2d_1 (MaxPooling2 (None, 12, 12, 64)        0         \n",
            "_________________________________________________________________\n",
            "dropout_1 (Dropout)          (None, 12, 12, 64)        0         \n",
            "_________________________________________________________________\n",
            "flatten_1 (Flatten)          (None, 9216)              0         \n",
            "_________________________________________________________________\n",
            "dense_1 (Dense)              (None, 128)               1179776   \n",
            "_________________________________________________________________\n",
            "dropout_2 (Dropout)          (None, 128)               0         \n",
            "_________________________________________________________________\n",
            "dense_2 (Dense)              (None, 10)                1290      \n",
            "=================================================================\n",
            "Total params: 1,199,882\n",
            "Trainable params: 1,199,882\n",
            "Non-trainable params: 0\n",
            "_________________________________________________________________\n"
          ],
          "name": "stdout"
        }
      ]
    },
    {
      "cell_type": "markdown",
      "metadata": {
        "id": "_lbZCmEtX5yP",
        "colab_type": "text"
      },
      "source": [
        "explication calculs et paramètres \n",
        "*   320 => (3 * 3 + 1) * 32  première couche\n",
        "*   18496 => (3 * 3 * 32 + 1) * 64  deuxième couche\n",
        "*   1 179 776 => (12 * 12 * 64 + 1) * 128  premiere couche dense\n",
        "*   1 290 => (128 + 1) * 10  deuxième couche dense\n",
        "\n",
        "*   maxpooling a un stride de 2 => perte de résolution de 24 * 24 à 12 * 12\n",
        "*   padding non géré ce qui explique le passage de 26 * 26 à 24 * 24 entre la 1ere et 2eme couche"
      ]
    },
    {
      "cell_type": "markdown",
      "metadata": {
        "id": "hE5Vk7GjqS3S",
        "colab_type": "text"
      },
      "source": [
        "Enlevons le maxPooling pour voir les conséquences."
      ]
    },
    {
      "cell_type": "code",
      "metadata": {
        "scrolled": true,
        "id": "SmWvN5iSX5yQ",
        "colab_type": "code",
        "outputId": "167f70a6-37a6-4324-b18c-43042abc64a5",
        "colab": {
          "base_uri": "https://localhost:8080/",
          "height": 486
        }
      },
      "source": [
        "model = Sequential()\n",
        "model.add(Conv2D(32, kernel_size=(3, 3),\n",
        "                 activation='relu',\n",
        "                 input_shape=input_shape))\n",
        "model.add(Conv2D(64, (3, 3), activation='relu'))\n",
        "model.add(Dropout(0.25))\n",
        "model.add(Flatten())\n",
        "model.add(Dense(128, activation='relu'))\n",
        "model.add(Dropout(0.5))\n",
        "model.add(Dense(num_classes, activation='softmax'))\n",
        "\n",
        "model.compile(loss=keras.losses.categorical_crossentropy,\n",
        "              optimizer=keras.optimizers.Adadelta(),\n",
        "              metrics=['accuracy'])\n",
        "\n",
        "model.fit(x_train, y_train,\n",
        "          batch_size=batch_size,\n",
        "          epochs=epochs,\n",
        "          verbose=1,\n",
        "          validation_data=(x_test, y_test))\n",
        "score = model.evaluate(x_test, y_test, verbose=0)\n",
        "print('Test loss:', score[0])\n",
        "print('Test accuracy:', score[1])"
      ],
      "execution_count": 0,
      "outputs": [
        {
          "output_type": "stream",
          "text": [
            "Train on 60000 samples, validate on 10000 samples\n",
            "Epoch 1/12\n",
            "60000/60000 [==============================] - 231s 4ms/step - loss: 0.2495 - acc: 0.9241 - val_loss: 0.0592 - val_acc: 0.9810\n",
            "Epoch 2/12\n",
            "60000/60000 [==============================] - 232s 4ms/step - loss: 0.0870 - acc: 0.9742 - val_loss: 0.0395 - val_acc: 0.9857\n",
            "Epoch 3/12\n",
            "60000/60000 [==============================] - 231s 4ms/step - loss: 0.0635 - acc: 0.9810 - val_loss: 0.0499 - val_acc: 0.9839\n",
            "Epoch 4/12\n",
            "60000/60000 [==============================] - 232s 4ms/step - loss: 0.0509 - acc: 0.9848 - val_loss: 0.0316 - val_acc: 0.9895\n",
            "Epoch 5/12\n",
            "60000/60000 [==============================] - 231s 4ms/step - loss: 0.0425 - acc: 0.9871 - val_loss: 0.0324 - val_acc: 0.9897\n",
            "Epoch 6/12\n",
            "60000/60000 [==============================] - 230s 4ms/step - loss: 0.0375 - acc: 0.9883 - val_loss: 0.0317 - val_acc: 0.9889\n",
            "Epoch 7/12\n",
            "60000/60000 [==============================] - 230s 4ms/step - loss: 0.0310 - acc: 0.9900 - val_loss: 0.0289 - val_acc: 0.9905\n",
            "Epoch 8/12\n",
            "60000/60000 [==============================] - 229s 4ms/step - loss: 0.0271 - acc: 0.9910 - val_loss: 0.0314 - val_acc: 0.9897\n",
            "Epoch 9/12\n",
            "60000/60000 [==============================] - 232s 4ms/step - loss: 0.0234 - acc: 0.9923 - val_loss: 0.0280 - val_acc: 0.9911\n",
            "Epoch 10/12\n",
            "60000/60000 [==============================] - 231s 4ms/step - loss: 0.0219 - acc: 0.9930 - val_loss: 0.0279 - val_acc: 0.9918\n",
            "Epoch 11/12\n",
            "60000/60000 [==============================] - 231s 4ms/step - loss: 0.0202 - acc: 0.9937 - val_loss: 0.0309 - val_acc: 0.9910\n",
            "Epoch 12/12\n",
            "60000/60000 [==============================] - 230s 4ms/step - loss: 0.0168 - acc: 0.9948 - val_loss: 0.0340 - val_acc: 0.9905\n",
            "Test loss: 0.0339593169216118\n",
            "Test accuracy: 0.9905\n"
          ],
          "name": "stdout"
        }
      ]
    },
    {
      "cell_type": "code",
      "metadata": {
        "id": "FeaOuLWBX5ya",
        "colab_type": "code",
        "outputId": "b22bf900-0dee-4ed6-baf8-3c49b7d2432c",
        "colab": {
          "base_uri": "https://localhost:8080/",
          "height": 399
        }
      },
      "source": [
        "model.summary()"
      ],
      "execution_count": 0,
      "outputs": [
        {
          "output_type": "stream",
          "text": [
            "Model: \"sequential_2\"\n",
            "_________________________________________________________________\n",
            "Layer (type)                 Output Shape              Param #   \n",
            "=================================================================\n",
            "conv2d_3 (Conv2D)            (None, 26, 26, 32)        320       \n",
            "_________________________________________________________________\n",
            "conv2d_4 (Conv2D)            (None, 24, 24, 64)        18496     \n",
            "_________________________________________________________________\n",
            "dropout_3 (Dropout)          (None, 24, 24, 64)        0         \n",
            "_________________________________________________________________\n",
            "flatten_2 (Flatten)          (None, 36864)             0         \n",
            "_________________________________________________________________\n",
            "dense_3 (Dense)              (None, 128)               4718720   \n",
            "_________________________________________________________________\n",
            "dropout_4 (Dropout)          (None, 128)               0         \n",
            "_________________________________________________________________\n",
            "dense_4 (Dense)              (None, 10)                1290      \n",
            "=================================================================\n",
            "Total params: 4,738,826\n",
            "Trainable params: 4,738,826\n",
            "Non-trainable params: 0\n",
            "_________________________________________________________________\n"
          ],
          "name": "stdout"
        }
      ]
    },
    {
      "cell_type": "markdown",
      "metadata": {
        "id": "-P3v1I1fq6QW",
        "colab_type": "text"
      },
      "source": [
        "En enlevant le maxPooling on peut voir qu'il y a environ 4 fois plus de paramères dans le réseau"
      ]
    }
  ]
}